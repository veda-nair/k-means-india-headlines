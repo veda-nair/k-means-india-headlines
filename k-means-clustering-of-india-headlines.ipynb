{
 "cells": [
  {
   "cell_type": "code",
   "execution_count": 1,
   "id": "013d5c76",
   "metadata": {
    "execution": {
     "iopub.execute_input": "2022-08-08T14:06:21.729483Z",
     "iopub.status.busy": "2022-08-08T14:06:21.728580Z",
     "iopub.status.idle": "2022-08-08T14:06:24.158039Z",
     "shell.execute_reply": "2022-08-08T14:06:24.156590Z"
    },
    "papermill": {
     "duration": 2.447449,
     "end_time": "2022-08-08T14:06:24.161407",
     "exception": false,
     "start_time": "2022-08-08T14:06:21.713958",
     "status": "completed"
    },
    "tags": []
   },
   "outputs": [],
   "source": [
    "import numpy as np\n",
    "import pandas as pd\n",
    "import matplotlib.pyplot as plt\n",
    "import seaborn as sns\n",
    "from sklearn.feature_extraction import text\n",
    "from sklearn.feature_extraction.text import TfidfVectorizer\n",
    "from sklearn.cluster import KMeans\n",
    "from nltk.tokenize import RegexpTokenizer\n",
    "from nltk.stem.snowball import SnowballStemmer"
   ]
  },
  {
   "cell_type": "markdown",
   "id": "f5083f23",
   "metadata": {
    "papermill": {
     "duration": 0.008452,
     "end_time": "2022-08-08T14:06:24.179060",
     "exception": false,
     "start_time": "2022-08-08T14:06:24.170608",
     "status": "completed"
    },
    "tags": []
   },
   "source": [
    "## About the dataset\n",
    "\n",
    "\n",
    "This news dataset is a persistent historical archive of noteable events in the Indian subcontinent from start-2001 to q1-2022, recorded in real-time by the journalists of India. It contains approximately 3.6 million events published by Times of India.\n",
    "\n",
    "A majority of the data is focusing on Indian local news including national, city level and entertainment.\n",
    "\n",
    "Dataset url: https://www.kaggle.com/datasets/therohk/india-headlines-news-dataset?resource=download"
   ]
  },
  {
   "cell_type": "code",
   "execution_count": 2,
   "id": "f73f96ff",
   "metadata": {
    "execution": {
     "iopub.execute_input": "2022-08-08T14:06:24.198728Z",
     "iopub.status.busy": "2022-08-08T14:06:24.198313Z",
     "iopub.status.idle": "2022-08-08T14:06:32.397170Z",
     "shell.execute_reply": "2022-08-08T14:06:32.395491Z"
    },
    "papermill": {
     "duration": 8.212257,
     "end_time": "2022-08-08T14:06:32.400183",
     "exception": false,
     "start_time": "2022-08-08T14:06:24.187926",
     "status": "completed"
    },
    "tags": []
   },
   "outputs": [
    {
     "data": {
      "text/html": [
       "<div>\n",
       "<style scoped>\n",
       "    .dataframe tbody tr th:only-of-type {\n",
       "        vertical-align: middle;\n",
       "    }\n",
       "\n",
       "    .dataframe tbody tr th {\n",
       "        vertical-align: top;\n",
       "    }\n",
       "\n",
       "    .dataframe thead th {\n",
       "        text-align: right;\n",
       "    }\n",
       "</style>\n",
       "<table border=\"1\" class=\"dataframe\">\n",
       "  <thead>\n",
       "    <tr style=\"text-align: right;\">\n",
       "      <th></th>\n",
       "      <th>publish_date</th>\n",
       "      <th>headline_category</th>\n",
       "      <th>headline_text</th>\n",
       "    </tr>\n",
       "  </thead>\n",
       "  <tbody>\n",
       "    <tr>\n",
       "      <th>0</th>\n",
       "      <td>20010102</td>\n",
       "      <td>unknown</td>\n",
       "      <td>Status quo will not be disturbed at Ayodhya; s...</td>\n",
       "    </tr>\n",
       "    <tr>\n",
       "      <th>1</th>\n",
       "      <td>20010102</td>\n",
       "      <td>unknown</td>\n",
       "      <td>Fissures in Hurriyat over Pak visit</td>\n",
       "    </tr>\n",
       "    <tr>\n",
       "      <th>2</th>\n",
       "      <td>20010102</td>\n",
       "      <td>unknown</td>\n",
       "      <td>America's unwanted heading for India?</td>\n",
       "    </tr>\n",
       "    <tr>\n",
       "      <th>3</th>\n",
       "      <td>20010102</td>\n",
       "      <td>unknown</td>\n",
       "      <td>For bigwigs; it is destination Goa</td>\n",
       "    </tr>\n",
       "    <tr>\n",
       "      <th>4</th>\n",
       "      <td>20010102</td>\n",
       "      <td>unknown</td>\n",
       "      <td>Extra buses to clear tourist traffic</td>\n",
       "    </tr>\n",
       "  </tbody>\n",
       "</table>\n",
       "</div>"
      ],
      "text/plain": [
       "   publish_date headline_category  \\\n",
       "0      20010102           unknown   \n",
       "1      20010102           unknown   \n",
       "2      20010102           unknown   \n",
       "3      20010102           unknown   \n",
       "4      20010102           unknown   \n",
       "\n",
       "                                       headline_text  \n",
       "0  Status quo will not be disturbed at Ayodhya; s...  \n",
       "1                Fissures in Hurriyat over Pak visit  \n",
       "2              America's unwanted heading for India?  \n",
       "3                 For bigwigs; it is destination Goa  \n",
       "4               Extra buses to clear tourist traffic  "
      ]
     },
     "execution_count": 2,
     "metadata": {},
     "output_type": "execute_result"
    }
   ],
   "source": [
    "df=pd.read_csv('../input/india-headlines-news-dataset/india-news-headlines.csv')\n",
    "df.head()"
   ]
  },
  {
   "cell_type": "code",
   "execution_count": 3,
   "id": "90d1d99f",
   "metadata": {
    "execution": {
     "iopub.execute_input": "2022-08-08T14:06:32.421952Z",
     "iopub.status.busy": "2022-08-08T14:06:32.421008Z",
     "iopub.status.idle": "2022-08-08T14:06:32.450524Z",
     "shell.execute_reply": "2022-08-08T14:06:32.448391Z"
    },
    "papermill": {
     "duration": 0.044671,
     "end_time": "2022-08-08T14:06:32.454100",
     "exception": false,
     "start_time": "2022-08-08T14:06:32.409429",
     "status": "completed"
    },
    "tags": []
   },
   "outputs": [
    {
     "name": "stdout",
     "output_type": "stream",
     "text": [
      "<class 'pandas.core.frame.DataFrame'>\n",
      "RangeIndex: 3650970 entries, 0 to 3650969\n",
      "Data columns (total 3 columns):\n",
      " #   Column             Dtype \n",
      "---  ------             ----- \n",
      " 0   publish_date       int64 \n",
      " 1   headline_category  object\n",
      " 2   headline_text      object\n",
      "dtypes: int64(1), object(2)\n",
      "memory usage: 83.6+ MB\n"
     ]
    }
   ],
   "source": [
    "df.info()"
   ]
  },
  {
   "cell_type": "markdown",
   "id": "5867d3d0",
   "metadata": {
    "papermill": {
     "duration": 0.009252,
     "end_time": "2022-08-08T14:06:32.475235",
     "exception": false,
     "start_time": "2022-08-08T14:06:32.465983",
     "status": "completed"
    },
    "tags": []
   },
   "source": [
    "## Counting and dropping duplicates"
   ]
  },
  {
   "cell_type": "code",
   "execution_count": 4,
   "id": "e1c66142",
   "metadata": {
    "execution": {
     "iopub.execute_input": "2022-08-08T14:06:32.496089Z",
     "iopub.status.busy": "2022-08-08T14:06:32.495535Z",
     "iopub.status.idle": "2022-08-08T14:06:36.845684Z",
     "shell.execute_reply": "2022-08-08T14:06:36.844406Z"
    },
    "papermill": {
     "duration": 4.364056,
     "end_time": "2022-08-08T14:06:36.848362",
     "exception": false,
     "start_time": "2022-08-08T14:06:32.484306",
     "status": "completed"
    },
    "tags": []
   },
   "outputs": [
    {
     "data": {
      "text/plain": [
       "publish_date         432989\n",
       "headline_category    432989\n",
       "headline_text        432989\n",
       "dtype: int64"
      ]
     },
     "execution_count": 4,
     "metadata": {},
     "output_type": "execute_result"
    }
   ],
   "source": [
    "df[df['headline_text'].duplicated(keep=False)].sort_values('headline_text').count()"
   ]
  },
  {
   "cell_type": "code",
   "execution_count": 5,
   "id": "d6996140",
   "metadata": {
    "execution": {
     "iopub.execute_input": "2022-08-08T14:06:36.870584Z",
     "iopub.status.busy": "2022-08-08T14:06:36.870093Z",
     "iopub.status.idle": "2022-08-08T14:06:40.934592Z",
     "shell.execute_reply": "2022-08-08T14:06:40.933622Z"
    },
    "papermill": {
     "duration": 4.07907,
     "end_time": "2022-08-08T14:06:40.937280",
     "exception": false,
     "start_time": "2022-08-08T14:06:36.858210",
     "status": "completed"
    },
    "tags": []
   },
   "outputs": [],
   "source": [
    "df=df.drop_duplicates('headline_text')"
   ]
  },
  {
   "cell_type": "code",
   "execution_count": 6,
   "id": "5640d4ca",
   "metadata": {
    "execution": {
     "iopub.execute_input": "2022-08-08T14:06:40.962463Z",
     "iopub.status.busy": "2022-08-08T14:06:40.961480Z",
     "iopub.status.idle": "2022-08-08T14:06:43.934798Z",
     "shell.execute_reply": "2022-08-08T14:06:43.933441Z"
    },
    "papermill": {
     "duration": 2.988728,
     "end_time": "2022-08-08T14:06:43.937460",
     "exception": false,
     "start_time": "2022-08-08T14:06:40.948732",
     "status": "completed"
    },
    "tags": []
   },
   "outputs": [
    {
     "data": {
      "text/plain": [
       "publish_date         0\n",
       "headline_category    0\n",
       "headline_text        0\n",
       "dtype: int64"
      ]
     },
     "execution_count": 6,
     "metadata": {},
     "output_type": "execute_result"
    }
   ],
   "source": [
    "df[df['headline_text'].duplicated(keep=False)].sort_values('headline_text').count()"
   ]
  },
  {
   "cell_type": "markdown",
   "id": "861e3141",
   "metadata": {
    "papermill": {
     "duration": 0.011585,
     "end_time": "2022-08-08T14:06:43.960444",
     "exception": false,
     "start_time": "2022-08-08T14:06:43.948859",
     "status": "completed"
    },
    "tags": []
   },
   "source": [
    "Above data indicates that now there are no duplicates present in the dataset."
   ]
  },
  {
   "cell_type": "code",
   "execution_count": 7,
   "id": "f1adfcf1",
   "metadata": {
    "execution": {
     "iopub.execute_input": "2022-08-08T14:06:43.984285Z",
     "iopub.status.busy": "2022-08-08T14:06:43.983878Z",
     "iopub.status.idle": "2022-08-08T14:06:43.990331Z",
     "shell.execute_reply": "2022-08-08T14:06:43.988995Z"
    },
    "papermill": {
     "duration": 0.021591,
     "end_time": "2022-08-08T14:06:43.992969",
     "exception": false,
     "start_time": "2022-08-08T14:06:43.971378",
     "status": "completed"
    },
    "tags": []
   },
   "outputs": [],
   "source": [
    "punc = ['.', ',', '\"', \"'\", '?', '!', ':', ';', '(', ')', '[', ']', '{', '}',\"%\"]\n",
    "\n",
    "stop_words = text.ENGLISH_STOP_WORDS.union(punc)"
   ]
  },
  {
   "cell_type": "markdown",
   "id": "3767faa3",
   "metadata": {
    "papermill": {
     "duration": 0.009666,
     "end_time": "2022-08-08T14:06:44.013328",
     "exception": false,
     "start_time": "2022-08-08T14:06:44.003662",
     "status": "completed"
    },
    "tags": []
   },
   "source": [
    "## Vectorization of data\n",
    "When doing natural language processing, words must be converted into vectors that machine learning algorithms can make use of. If your goal is to do machine learning on text data, like movie reviews or tweets or anything else, you need to convert the text data into numbers. This process is sometimes referred to as “embedding” or “vectorization”.\n",
    "\n",
    "In terms of vectorization, it is important to remember that it isn’t merely turning a single word into a single number. While words can be transformed into numbers, an entire document can be translated into a vector. Not only can a vector have more than one dimension, but with text data, vectors are usually high-dimensional. This is because each dimension of your feature data will correspond to a word, and the language in the documents you are examining will have thousands of words."
   ]
  },
  {
   "cell_type": "markdown",
   "id": "952b6358",
   "metadata": {
    "papermill": {
     "duration": 0.009631,
     "end_time": "2022-08-08T14:06:44.033015",
     "exception": false,
     "start_time": "2022-08-08T14:06:44.023384",
     "status": "completed"
    },
    "tags": []
   },
   "source": [
    "## TF-IDF\n",
    "In information retrieval, tf–idf or TFIDF, short for term frequency–inverse document frequency, is a numerical statistic that is intended to reflect how important a word is to a document in a collection or corpus. It is often used as a weighting factor in searches of information retrieval, text mining, and user modeling. The tf-idf value increases proportionally to the number of times a word appears in the document and is offset by the frequency of the word in the corpus, which helps to adjust for the fact that some words appear more frequently in general. Nowadays, tf-idf is one of the most popular term-weighting schemes; 83% of text-based recommender systems in the domain of digital libraries use tf-idf.\n",
    "\n",
    "Variations of the tf–idf weighting scheme are often used by search engines as a central tool in scoring and ranking a document's relevance given a user query. tf–idf can be successfully used for stop-words filtering in various subject fields, including text summarization and classification.\n",
    "\n",
    "One of the simplest ranking functions is computed by summing the tf–idf for each query term; many more sophisticated ranking functions are variants of this simple model."
   ]
  },
  {
   "cell_type": "code",
   "execution_count": 8,
   "id": "a6c5c5ad",
   "metadata": {
    "execution": {
     "iopub.execute_input": "2022-08-08T14:06:44.055063Z",
     "iopub.status.busy": "2022-08-08T14:06:44.053882Z",
     "iopub.status.idle": "2022-08-08T14:06:44.059906Z",
     "shell.execute_reply": "2022-08-08T14:06:44.058654Z"
    },
    "papermill": {
     "duration": 0.020823,
     "end_time": "2022-08-08T14:06:44.063474",
     "exception": false,
     "start_time": "2022-08-08T14:06:44.042651",
     "status": "completed"
    },
    "tags": []
   },
   "outputs": [],
   "source": [
    "headline_values = df['headline_text'].values"
   ]
  },
  {
   "cell_type": "code",
   "execution_count": 9,
   "id": "03ba15b1",
   "metadata": {
    "execution": {
     "iopub.execute_input": "2022-08-08T14:06:44.088213Z",
     "iopub.status.busy": "2022-08-08T14:06:44.086961Z",
     "iopub.status.idle": "2022-08-08T14:07:25.828611Z",
     "shell.execute_reply": "2022-08-08T14:07:25.827185Z"
    },
    "papermill": {
     "duration": 41.756937,
     "end_time": "2022-08-08T14:07:25.831422",
     "exception": false,
     "start_time": "2022-08-08T14:06:44.074485",
     "status": "completed"
    },
    "tags": []
   },
   "outputs": [],
   "source": [
    "vectorizer = TfidfVectorizer(stop_words=stop_words)\n",
    "X = vectorizer.fit_transform(headline_values)"
   ]
  },
  {
   "cell_type": "code",
   "execution_count": 10,
   "id": "26654e16",
   "metadata": {
    "execution": {
     "iopub.execute_input": "2022-08-08T14:07:25.853028Z",
     "iopub.status.busy": "2022-08-08T14:07:25.852596Z",
     "iopub.status.idle": "2022-08-08T14:07:26.158147Z",
     "shell.execute_reply": "2022-08-08T14:07:26.157009Z"
    },
    "papermill": {
     "duration": 0.322066,
     "end_time": "2022-08-08T14:07:26.163295",
     "exception": false,
     "start_time": "2022-08-08T14:07:25.841229",
     "status": "completed"
    },
    "tags": []
   },
   "outputs": [
    {
     "name": "stderr",
     "output_type": "stream",
     "text": [
      "/opt/conda/lib/python3.7/site-packages/sklearn/utils/deprecation.py:87: FutureWarning: Function get_feature_names is deprecated; get_feature_names is deprecated in 1.0 and will be removed in 1.2. Please use get_feature_names_out instead.\n",
      "  warnings.warn(msg, category=FutureWarning)\n"
     ]
    }
   ],
   "source": [
    "word_features = vectorizer.get_feature_names()"
   ]
  },
  {
   "cell_type": "code",
   "execution_count": 11,
   "id": "93d16769",
   "metadata": {
    "execution": {
     "iopub.execute_input": "2022-08-08T14:07:26.190313Z",
     "iopub.status.busy": "2022-08-08T14:07:26.189256Z",
     "iopub.status.idle": "2022-08-08T14:07:26.197123Z",
     "shell.execute_reply": "2022-08-08T14:07:26.195451Z"
    },
    "papermill": {
     "duration": 0.024497,
     "end_time": "2022-08-08T14:07:26.200540",
     "exception": false,
     "start_time": "2022-08-08T14:07:26.176043",
     "status": "completed"
    },
    "tags": []
   },
   "outputs": [
    {
     "name": "stdout",
     "output_type": "stream",
     "text": [
      "219230\n"
     ]
    }
   ],
   "source": [
    "print(len(word_features))"
   ]
  },
  {
   "cell_type": "code",
   "execution_count": 12,
   "id": "0a205f63",
   "metadata": {
    "execution": {
     "iopub.execute_input": "2022-08-08T14:07:26.230118Z",
     "iopub.status.busy": "2022-08-08T14:07:26.229014Z",
     "iopub.status.idle": "2022-08-08T14:07:26.237525Z",
     "shell.execute_reply": "2022-08-08T14:07:26.235001Z"
    },
    "papermill": {
     "duration": 0.025917,
     "end_time": "2022-08-08T14:07:26.241713",
     "exception": false,
     "start_time": "2022-08-08T14:07:26.215796",
     "status": "completed"
    },
    "tags": []
   },
   "outputs": [
    {
     "name": "stdout",
     "output_type": "stream",
     "text": [
      "['11hrs', '11hunt', '11k', '11kcr', '11kg', '11km', '11kv', '11l', '11lakh', '11lakhs', '11m', '11mm', '11mn', '11mt', '11mukul', '11mw', '11o', '11oz', '11p7', '11pc', '11persons', '11pm', '11s', '11terrorists', '11th', '11thadmission', '11x6mm', '11years', '11yrs', '12', '120', '1200', '12000', '120000', '12000cr', '12000km', '1200cr', '1200g', '1200gm', '1200kms', '1200mw', '1200s', '1201', '1205', '1206', '1207', '1208', '1209cr', '120b', '120bn', '120cr', '120crore', '120db', '120ft', '120g', '120ha', '120hz', '120k', '120kg', '120km', '120kmph', '120kph', '120kt', '120l', '120m', '120mld', '120mm', '120mt', '120nm', '120th', '120yrs', '121', '1210', '1211', '12135', '1214', '1215t', '1217', '1219', '121cr', '121crore', '121kg', '121m', '121st', '122', '1222', '122666', '1227', '1228', '122cr', '122crore', '122k', '122kg', '122km', '122mm', '122nd', '123', '1233', '1234', '123456']\n"
     ]
    }
   ],
   "source": [
    "print(word_features[1000:1100])"
   ]
  },
  {
   "cell_type": "markdown",
   "id": "3461da66",
   "metadata": {
    "papermill": {
     "duration": 0.010103,
     "end_time": "2022-08-08T14:07:26.262202",
     "exception": false,
     "start_time": "2022-08-08T14:07:26.252099",
     "status": "completed"
    },
    "tags": []
   },
   "source": [
    "## Stemming\n",
    "Stemming is the process of reducing a word into its stem, i.e. its root form. The root form is not necessarily a word by itself, but it can be used to generate words by concatenating the right suffix. For example, the words fish, fishes and fishing all stem into fish, which is a correct word. On the other side, the words study, studies and studying stems into studi, which is not an English word.\n",
    "\n",
    "## Tokenizing\n",
    "Tokenization is breaking the sentence into words and punctuation."
   ]
  },
  {
   "cell_type": "code",
   "execution_count": 13,
   "id": "3eb4b367",
   "metadata": {
    "execution": {
     "iopub.execute_input": "2022-08-08T14:07:26.284369Z",
     "iopub.status.busy": "2022-08-08T14:07:26.283531Z",
     "iopub.status.idle": "2022-08-08T14:07:26.288984Z",
     "shell.execute_reply": "2022-08-08T14:07:26.287832Z"
    },
    "papermill": {
     "duration": 0.019095,
     "end_time": "2022-08-08T14:07:26.291472",
     "exception": false,
     "start_time": "2022-08-08T14:07:26.272377",
     "status": "completed"
    },
    "tags": []
   },
   "outputs": [],
   "source": [
    "stemmer = SnowballStemmer('english')"
   ]
  },
  {
   "cell_type": "code",
   "execution_count": 14,
   "id": "4921e9a3",
   "metadata": {
    "execution": {
     "iopub.execute_input": "2022-08-08T14:07:26.313615Z",
     "iopub.status.busy": "2022-08-08T14:07:26.312678Z",
     "iopub.status.idle": "2022-08-08T14:07:26.318576Z",
     "shell.execute_reply": "2022-08-08T14:07:26.317657Z"
    },
    "papermill": {
     "duration": 0.019798,
     "end_time": "2022-08-08T14:07:26.321186",
     "exception": false,
     "start_time": "2022-08-08T14:07:26.301388",
     "status": "completed"
    },
    "tags": []
   },
   "outputs": [],
   "source": [
    "tokenizer = RegexpTokenizer(r'[a-zA-Z\\']+')"
   ]
  },
  {
   "cell_type": "code",
   "execution_count": 15,
   "id": "e5788a39",
   "metadata": {
    "execution": {
     "iopub.execute_input": "2022-08-08T14:07:26.342638Z",
     "iopub.status.busy": "2022-08-08T14:07:26.342203Z",
     "iopub.status.idle": "2022-08-08T14:07:26.347523Z",
     "shell.execute_reply": "2022-08-08T14:07:26.346279Z"
    },
    "papermill": {
     "duration": 0.019069,
     "end_time": "2022-08-08T14:07:26.350080",
     "exception": false,
     "start_time": "2022-08-08T14:07:26.331011",
     "status": "completed"
    },
    "tags": []
   },
   "outputs": [],
   "source": [
    "def tokenize(text):\n",
    "    return[stemmer.stem(word) for word in tokenizer.tokenize(text.lower())]"
   ]
  },
  {
   "cell_type": "markdown",
   "id": "8d23fdc8",
   "metadata": {
    "papermill": {
     "duration": 0.009241,
     "end_time": "2022-08-08T14:07:26.368996",
     "exception": false,
     "start_time": "2022-08-08T14:07:26.359755",
     "status": "completed"
    },
    "tags": []
   },
   "source": [
    "## Vectorization with stop words(words irrelevant to the model), stemming and tokenizing"
   ]
  },
  {
   "cell_type": "code",
   "execution_count": 16,
   "id": "67fdd4af",
   "metadata": {
    "execution": {
     "iopub.execute_input": "2022-08-08T14:07:26.390855Z",
     "iopub.status.busy": "2022-08-08T14:07:26.390036Z",
     "iopub.status.idle": "2022-08-08T14:07:26.396592Z",
     "shell.execute_reply": "2022-08-08T14:07:26.395070Z"
    },
    "papermill": {
     "duration": 0.020582,
     "end_time": "2022-08-08T14:07:26.399287",
     "exception": false,
     "start_time": "2022-08-08T14:07:26.378705",
     "status": "completed"
    },
    "tags": []
   },
   "outputs": [],
   "source": [
    "vectorizer2 = TfidfVectorizer(stop_words=stop_words, tokenizer=tokenize)"
   ]
  },
  {
   "cell_type": "code",
   "execution_count": 17,
   "id": "7e8e92bb",
   "metadata": {
    "execution": {
     "iopub.execute_input": "2022-08-08T14:07:26.422464Z",
     "iopub.status.busy": "2022-08-08T14:07:26.421198Z",
     "iopub.status.idle": "2022-08-08T14:14:26.436518Z",
     "shell.execute_reply": "2022-08-08T14:14:26.435076Z"
    },
    "papermill": {
     "duration": 420.030384,
     "end_time": "2022-08-08T14:14:26.439887",
     "exception": false,
     "start_time": "2022-08-08T14:07:26.409503",
     "status": "completed"
    },
    "tags": []
   },
   "outputs": [
    {
     "name": "stderr",
     "output_type": "stream",
     "text": [
      "/opt/conda/lib/python3.7/site-packages/sklearn/feature_extraction/text.py:401: UserWarning: Your stop_words may be inconsistent with your preprocessing. Tokenizing the stop words generated tokens ['abov', 'afterward', 'alon', 'alreadi', 'alway', 'ani', 'anoth', 'anyon', 'anyth', 'anywher', 'becam', 'becaus', 'becom', 'befor', 'besid', 'cri', 'describ', 'dure', 'els', 'elsewher', 'empti', 'everi', 'everyon', 'everyth', 'everywher', 'fifti', 'forti', 'henc', 'hereaft', 'herebi', 'howev', 'hundr', 'inde', 'mani', 'meanwhil', 'moreov', 'nobodi', 'noon', 'noth', 'nowher', 'onc', 'onli', 'otherwis', 'ourselv', 'perhap', 'pleas', 'sever', 'sinc', 'sincer', 'sixti', 'someon', 'someth', 'sometim', 'somewher', 'themselv', 'thenc', 'thereaft', 'therebi', 'therefor', 'togeth', 'twelv', 'twenti', 'veri', 'whatev', 'whenc', 'whenev', 'wherea', 'whereaft', 'wherebi', 'wherev', 'whi', 'yourselv'] not in stop_words.\n",
      "  % sorted(inconsistent)\n"
     ]
    }
   ],
   "source": [
    "X2 = vectorizer2.fit_transform(headline_values)"
   ]
  },
  {
   "cell_type": "code",
   "execution_count": 18,
   "id": "7e4038de",
   "metadata": {
    "execution": {
     "iopub.execute_input": "2022-08-08T14:14:26.463083Z",
     "iopub.status.busy": "2022-08-08T14:14:26.462664Z",
     "iopub.status.idle": "2022-08-08T14:14:26.671581Z",
     "shell.execute_reply": "2022-08-08T14:14:26.670145Z"
    },
    "papermill": {
     "duration": 0.223342,
     "end_time": "2022-08-08T14:14:26.674503",
     "exception": false,
     "start_time": "2022-08-08T14:14:26.451161",
     "status": "completed"
    },
    "tags": []
   },
   "outputs": [],
   "source": [
    "word_features2 = vectorizer2.get_feature_names()"
   ]
  },
  {
   "cell_type": "code",
   "execution_count": 19,
   "id": "5564db2b",
   "metadata": {
    "execution": {
     "iopub.execute_input": "2022-08-08T14:14:26.698022Z",
     "iopub.status.busy": "2022-08-08T14:14:26.697286Z",
     "iopub.status.idle": "2022-08-08T14:14:26.703606Z",
     "shell.execute_reply": "2022-08-08T14:14:26.702360Z"
    },
    "papermill": {
     "duration": 0.022227,
     "end_time": "2022-08-08T14:14:26.707255",
     "exception": false,
     "start_time": "2022-08-08T14:14:26.685028",
     "status": "completed"
    },
    "tags": []
   },
   "outputs": [
    {
     "name": "stdout",
     "output_type": "stream",
     "text": [
      "172160\n"
     ]
    }
   ],
   "source": [
    "print(len(word_features2))"
   ]
  },
  {
   "cell_type": "code",
   "execution_count": 20,
   "id": "1e7ff850",
   "metadata": {
    "execution": {
     "iopub.execute_input": "2022-08-08T14:14:26.730505Z",
     "iopub.status.busy": "2022-08-08T14:14:26.730096Z",
     "iopub.status.idle": "2022-08-08T14:14:26.735925Z",
     "shell.execute_reply": "2022-08-08T14:14:26.734665Z"
    },
    "papermill": {
     "duration": 0.021391,
     "end_time": "2022-08-08T14:14:26.740194",
     "exception": false,
     "start_time": "2022-08-08T14:14:26.718803",
     "status": "completed"
    },
    "tags": []
   },
   "outputs": [
    {
     "name": "stdout",
     "output_type": "stream",
     "text": [
      "['', \"''\", \"'a\", \"'addit\", \"'aftertaste'\", \"'alien\", \"'american\", \"'americanah'\", \"'amy'\", \"'ant\", \"'anxieti\", \"'aquaman'\", \"'attack\", \"'attempt\", \"'b\", \"'barbershop\", \"'battl\", \"'beauti\", \"'befikre'\", \"'bellari\", \"'beyond\", \"'bharat\", \"'big\", \"'bill\", \"'biz\", \"'boy\", \"'boyfriend\", \"'bravetown'\", \"'broken\", \"'c\", \"'call\", \"'captain\", \"'cidco\", \"'closer\", \"'collater\", \"'comrade'\", \"'core\", \"'cougar'\", \"'courage'\", \"'d\", \"'danc\", \"'deep\", \"'depressing'\", \"'doesn't\", \"'dragon\", \"'e\", \"'excalibur'\", \"'f\", \"'fake'\", \"'fast\"]\n"
     ]
    }
   ],
   "source": [
    "print(word_features2[:50]) "
   ]
  },
  {
   "cell_type": "code",
   "execution_count": 21,
   "id": "1292b140",
   "metadata": {
    "execution": {
     "iopub.execute_input": "2022-08-08T14:14:26.764224Z",
     "iopub.status.busy": "2022-08-08T14:14:26.763816Z",
     "iopub.status.idle": "2022-08-08T14:14:26.769926Z",
     "shell.execute_reply": "2022-08-08T14:14:26.768439Z"
    },
    "papermill": {
     "duration": 0.019926,
     "end_time": "2022-08-08T14:14:26.772536",
     "exception": false,
     "start_time": "2022-08-08T14:14:26.752610",
     "status": "completed"
    },
    "tags": []
   },
   "outputs": [],
   "source": [
    "vectorizer3 = TfidfVectorizer(stop_words = stop_words, tokenizer = tokenize, max_features = 1000)"
   ]
  },
  {
   "cell_type": "code",
   "execution_count": 22,
   "id": "2a8ff8cc",
   "metadata": {
    "execution": {
     "iopub.execute_input": "2022-08-08T14:14:26.796444Z",
     "iopub.status.busy": "2022-08-08T14:14:26.795992Z",
     "iopub.status.idle": "2022-08-08T14:21:23.146111Z",
     "shell.execute_reply": "2022-08-08T14:21:23.144941Z"
    },
    "papermill": {
     "duration": 416.365117,
     "end_time": "2022-08-08T14:21:23.148997",
     "exception": false,
     "start_time": "2022-08-08T14:14:26.783880",
     "status": "completed"
    },
    "tags": []
   },
   "outputs": [],
   "source": [
    "X3 = vectorizer3.fit_transform(headline_values)"
   ]
  },
  {
   "cell_type": "code",
   "execution_count": 23,
   "id": "e4fc0880",
   "metadata": {
    "execution": {
     "iopub.execute_input": "2022-08-08T14:21:23.173036Z",
     "iopub.status.busy": "2022-08-08T14:21:23.172098Z",
     "iopub.status.idle": "2022-08-08T14:21:23.181370Z",
     "shell.execute_reply": "2022-08-08T14:21:23.179741Z"
    },
    "papermill": {
     "duration": 0.02491,
     "end_time": "2022-08-08T14:21:23.184453",
     "exception": false,
     "start_time": "2022-08-08T14:21:23.159543",
     "status": "completed"
    },
    "tags": []
   },
   "outputs": [],
   "source": [
    "words = vectorizer3.get_feature_names()"
   ]
  },
  {
   "cell_type": "markdown",
   "id": "1cd549ef",
   "metadata": {
    "papermill": {
     "duration": 0.010272,
     "end_time": "2022-08-08T14:21:23.205781",
     "exception": false,
     "start_time": "2022-08-08T14:21:23.195509",
     "status": "completed"
    },
    "tags": []
   },
   "source": [
    "## k-means clustering algorithm\n",
    "k-means clustering is a method of vector quantization, originally from signal processing, that aims to partition n observations into k clusters in which each observation belongs to the cluster with the nearest mean (cluster centers or cluster centroid), serving as a prototype of the cluster. This results in a partitioning of the data space into Voronoi cells.\n",
    "\n",
    "We will be using elbow method to determine the optimum number of clusters required. This basically sums upto,\n",
    "\n",
    "number of clusters = the x-axis value of the point that is the corner of the \"elbow\"(the plot looks often looks like an elbow)."
   ]
  },
  {
   "cell_type": "code",
   "execution_count": 24,
   "id": "0075cf05",
   "metadata": {
    "execution": {
     "iopub.execute_input": "2022-08-08T14:21:23.229634Z",
     "iopub.status.busy": "2022-08-08T14:21:23.229076Z",
     "iopub.status.idle": "2022-08-08T14:57:44.806888Z",
     "shell.execute_reply": "2022-08-08T14:57:44.805827Z"
    },
    "papermill": {
     "duration": 2181.604146,
     "end_time": "2022-08-08T14:57:44.821272",
     "exception": false,
     "start_time": "2022-08-08T14:21:23.217126",
     "status": "completed"
    },
    "tags": []
   },
   "outputs": [
    {
     "data": {
      "image/png": "[encoded data removed]",
      "text/plain": [
       "<Figure size 432x288 with 1 Axes>"
      ]
     },
     "metadata": {
      "needs_background": "light"
     },
     "output_type": "display_data"
    }
   ],
   "source": [
    "from sklearn.cluster import KMeans\n",
    "\n",
    "wcss=[]\n",
    "for i in range (1,11):\n",
    "    kmeans=KMeans(n_clusters=i,init='k-means++',max_iter=300,n_init=10,random_state=0)\n",
    "    kmeans.fit(X3)\n",
    "    wcss.append(kmeans.inertia_)\n",
    "\n",
    "plt.plot(range(1,11),wcss)\n",
    "plt.title('The Elbow Method')\n",
    "plt.xlabel('Number of clusters')\n",
    "plt.ylabel('WCSS')\n",
    "plt.savefig('elbow.png')\n",
    "plt.show()"
   ]
  },
  {
   "cell_type": "markdown",
   "id": "9d3969da",
   "metadata": {
    "papermill": {
     "duration": 0.009774,
     "end_time": "2022-08-08T14:57:44.841494",
     "exception": false,
     "start_time": "2022-08-08T14:57:44.831720",
     "status": "completed"
    },
    "tags": []
   },
   "source": [
    "As more than one elbows have been generated, I will have to select right amount of clusters by trial and error. \n",
    "So here we see that elbows are generates at 4 clusters, 6 clusters and 8 clusters."
   ]
  },
  {
   "cell_type": "code",
   "execution_count": 25,
   "id": "b8ce7676",
   "metadata": {
    "execution": {
     "iopub.execute_input": "2022-08-08T14:57:44.864711Z",
     "iopub.status.busy": "2022-08-08T14:57:44.863847Z",
     "iopub.status.idle": "2022-08-08T14:57:44.870515Z",
     "shell.execute_reply": "2022-08-08T14:57:44.868923Z"
    },
    "papermill": {
     "duration": 0.021748,
     "end_time": "2022-08-08T14:57:44.873507",
     "exception": false,
     "start_time": "2022-08-08T14:57:44.851759",
     "status": "completed"
    },
    "tags": []
   },
   "outputs": [
    {
     "name": "stdout",
     "output_type": "stream",
     "text": [
      "['depart', 'dept', 'design', 'despit', 'detain', 'develop', 'did', 'die', 'differ', 'dip', 'direct', 'director', 'discuss', 'dismiss', 'disput', 'dist', 'district', 'diwali', 'doc', 'doctor', 'doe', 'dog', 'dollar', \"don't\", 'donat', 'doubl', 'draw', 'dream', 'dri', 'drive', 'driver', 'drop', 'drown', 'drug', 'dump', 'dupe', 'dure', 'duti', 'e', 'earli', 'eas', 'east', 'ec', 'educ', 'elect', 'emerg', 'employe', 'encroach', 'end', 'engin']\n"
     ]
    }
   ],
   "source": [
    "print(words[250:300])"
   ]
  },
  {
   "cell_type": "markdown",
   "id": "450d32f8",
   "metadata": {
    "papermill": {
     "duration": 0.010512,
     "end_time": "2022-08-08T14:57:44.894685",
     "exception": false,
     "start_time": "2022-08-08T14:57:44.884173",
     "status": "completed"
    },
    "tags": []
   },
   "source": [
    "## Generating 4 clusters"
   ]
  },
  {
   "cell_type": "code",
   "execution_count": 26,
   "id": "10cca46c",
   "metadata": {
    "execution": {
     "iopub.execute_input": "2022-08-08T14:57:44.917609Z",
     "iopub.status.busy": "2022-08-08T14:57:44.917161Z",
     "iopub.status.idle": "2022-08-08T15:02:42.407328Z",
     "shell.execute_reply": "2022-08-08T15:02:42.405966Z"
    },
    "papermill": {
     "duration": 297.514997,
     "end_time": "2022-08-08T15:02:42.420542",
     "exception": false,
     "start_time": "2022-08-08T14:57:44.905545",
     "status": "completed"
    },
    "tags": []
   },
   "outputs": [
    {
     "name": "stdout",
     "output_type": "stream",
     "text": [
      "0 : new, say, govt, case, year, held, day, citi, cop, kill, student, man, bjp, polic, delhi, state, road, hc, plan, school, set, meet, make, death, indian\n",
      "1 : india, pak, china, pakistan, air, world, test, say, team, cup, new, win, vs, australia, launch, make, talk, seri, tie, set, need, south, visit, pm, global\n",
      "2 : arrest, court, high, case, suprem, man, murder, cop, order, polic, rape, bail, accus, plea, delhi, cbi, woman, year, old, seek, gang, stay, say, kill, hc\n",
      "3 : rs, crore, lakh, cr, worth, l, seiz, k, held, pay, dupe, fine, man, bank, gold, stolen, rob, govt, cost, fraud, loot, cash, project, arrest, lose\n"
     ]
    }
   ],
   "source": [
    "kmeans = KMeans(n_clusters = 4, n_init = 20) # n_init(number of iterations for clsutering) \n",
    "kmeans.fit(X3)\n",
    "# We look at 4 the clusters generated by k-means.\n",
    "common_words = kmeans.cluster_centers_.argsort()[:,-1:-26:-1]\n",
    "for num, centroid in enumerate(common_words):\n",
    "    print(str(num) + ' : ' + ', '.join(words[word] for word in centroid))"
   ]
  },
  {
   "cell_type": "markdown",
   "id": "5c0e8a6d",
   "metadata": {
    "papermill": {
     "duration": 0.010425,
     "end_time": "2022-08-08T15:02:42.442158",
     "exception": false,
     "start_time": "2022-08-08T15:02:42.431733",
     "status": "completed"
    },
    "tags": []
   },
   "source": [
    "## Generating 6 clusters"
   ]
  },
  {
   "cell_type": "code",
   "execution_count": 27,
   "id": "e8c68f86",
   "metadata": {
    "execution": {
     "iopub.execute_input": "2022-08-08T15:02:42.465698Z",
     "iopub.status.busy": "2022-08-08T15:02:42.464532Z",
     "iopub.status.idle": "2022-08-08T15:09:45.427509Z",
     "shell.execute_reply": "2022-08-08T15:09:45.425612Z"
    },
    "papermill": {
     "duration": 422.987744,
     "end_time": "2022-08-08T15:09:45.440379",
     "exception": false,
     "start_time": "2022-08-08T15:02:42.452635",
     "status": "completed"
    },
    "tags": []
   },
   "outputs": [
    {
     "name": "stdout",
     "output_type": "stream",
     "text": [
      "0 : new, case, govt, say, rs, year, held, citi, cop, student, bjp, polic, delhi, state, hc, road, arrest, school, set, court, meet, make, indian, cm, poll\n",
      "1 : india, pak, china, pakistan, air, world, say, team, test, cup, new, win, vs, launch, australia, make, seri, talk, tie, set, need, south, visit, beat, pm\n",
      "2 : kill, man, held, wife, old, year, accid, woman, arrest, self, injur, rape, death, murder, cop, rs, road, son, attack, life, girl, mishap, daughter, car, book\n",
      "3 : plan, govt, new, citi, rs, develop, state, centr, india, action, govern, cr, road, panel, build, corpor, delhi, year, water, hit, crore, bjp, park, make, traffic\n",
      "4 : die, film, accid, old, man, woman, year, fall, hit, festiv, mishap, road, car, girl, hospit, fest, covid, boy, make, youth, truck, bike, famili, student, shoot\n",
      "5 : day, celebr, case, covid, world, delhi, citi, rain, custodi, strike, polic, r, mark, th, second, test, rs, death, school, cop, year, everi, today, mumbai, india\n"
     ]
    }
   ],
   "source": [
    "kmeans = KMeans(n_clusters = 6, n_init = 20)\n",
    "kmeans.fit(X3)\n",
    "# We look at 6 the clusters generated by k-means.\n",
    "common_words = kmeans.cluster_centers_.argsort()[:,-1:-26:-1]\n",
    "for num, centroid in enumerate(common_words):\n",
    "    print(str(num) + ' : ' + ', '.join(words[word] for word in centroid))"
   ]
  },
  {
   "cell_type": "markdown",
   "id": "10d72e99",
   "metadata": {
    "papermill": {
     "duration": 0.010317,
     "end_time": "2022-08-08T15:09:45.461205",
     "exception": false,
     "start_time": "2022-08-08T15:09:45.450888",
     "status": "completed"
    },
    "tags": []
   },
   "source": [
    "## Generating 8 clusters"
   ]
  },
  {
   "cell_type": "code",
   "execution_count": 28,
   "id": "40510d0d",
   "metadata": {
    "execution": {
     "iopub.execute_input": "2022-08-08T15:09:45.483866Z",
     "iopub.status.busy": "2022-08-08T15:09:45.483385Z",
     "iopub.status.idle": "2022-08-08T15:20:08.972324Z",
     "shell.execute_reply": "2022-08-08T15:20:08.970941Z"
    },
    "papermill": {
     "duration": 623.515513,
     "end_time": "2022-08-08T15:20:08.987275",
     "exception": false,
     "start_time": "2022-08-08T15:09:45.471762",
     "status": "completed"
    },
    "tags": []
   },
   "outputs": [
    {
     "name": "stdout",
     "output_type": "stream",
     "text": [
      "0 : india, new, govt, citi, student, cop, school, plan, colleg, state, set, hc, delhi, seek, test, make, help, launch, pak, held, polic, univers, protest, world, china\n",
      "1 : held, bjp, polic, man, delhi, meet, state, set, make, indian, hc, poll, plan, cm, court, time, school, hit, mumbai, water, death, seek, open, work, woman\n",
      "2 : road, power, accid, cut, kill, citi, suppli, work, mishap, traffic, plant, project, block, repair, hit, resid, state, new, die, plan, water, safeti, govt, delhi, hike\n",
      "3 : year, kill, old, man, yr, rape, woman, girl, held, new, accid, self, boy, injur, wife, die, jail, arrest, murder, death, youth, delhi, car, cop, bus\n",
      "4 : say, bjp, govt, cm, india, expert, minist, need, congress, modi, pm, chief, cop, court, singh, hc, polic, report, state, don't, delhi, govern, won't, new, doctor\n",
      "5 : case, covid, murder, court, new, cbi, file, hc, cop, death, report, arrest, bail, accus, rape, polic, held, probe, rise, day, hear, dengu, fresh, record, sc\n",
      "6 : day, arrest, celebr, polic, man, cop, murder, delhi, rape, citi, woman, student, world, accus, gang, strike, custodi, mumbai, death, rain, r, girl, youth, mark, bust\n",
      "7 : rs, crore, lakh, cr, worth, l, seiz, k, held, pay, dupe, fine, man, bank, gold, stolen, rob, govt, cost, fraud, loot, cash, project, arrest, lose\n"
     ]
    }
   ],
   "source": [
    "kmeans = KMeans(n_clusters = 8, n_init = 20)\n",
    "kmeans.fit(X3)\n",
    "# Finally, we look at 8 the clusters generated by k-means.\n",
    "common_words = kmeans.cluster_centers_.argsort()[:,-1:-26:-1]\n",
    "for num, centroid in enumerate(common_words):\n",
    "    print(str(num) + ' : ' + ', '.join(words[word] for word in centroid))"
   ]
  }
 ],
 "metadata": {
  "kernelspec": {
   "display_name": "Python 3",
   "language": "python",
   "name": "python3"
  },
  "language_info": {
   "codemirror_mode": {
    "name": "ipython",
    "version": 3
   },
   "file_extension": ".py",
   "mimetype": "text/x-python",
   "name": "python",
   "nbconvert_exporter": "python",
   "pygments_lexer": "ipython3",
   "version": "3.7.12"
  },
  "papermill": {
   "default_parameters": {},
   "duration": 4440.717212,
   "end_time": "2022-08-08T15:20:10.433442",
   "environment_variables": {},
   "exception": null,
   "input_path": "__notebook__.ipynb",
   "output_path": "__notebook__.ipynb",
   "parameters": {},
   "start_time": "2022-08-08T14:06:09.716230",
   "version": "2.3.4"
  }
 },
 "nbformat": 4,
 "nbformat_minor": 5
}
